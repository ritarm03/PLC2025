{
 "cells": [
  {
   "cell_type": "markdown",
   "id": "1fcd17e0",
   "metadata": {},
   "source": [
    "## TPC 4 - Analisador Léxico\n",
    "**Rita Machado (a108400)**\n",
    "\n",
    "Este TPC visa criar um pequeno analisador léxico para uma linguagem de query usando tokens.<br>\n",
    "Um exemplo de frase que deve puder analisar é a seguinte:\n",
    "\n",
    ">select ?nome ?desc where {<br>\n",
    " ?s a dbo:MusicalArtist.<br>\n",
    " ?s foaf:name \"Chuck Berry\"@en .<br>\n",
    " ?w dbo:artist ?s.<br>\n",
    " ?w foaf:name ?nome.<br>\n",
    " ?w dbo:abstract ?desc<br>\n",
    "} LIMIT 1000<br>"
   ]
  },
  {
   "cell_type": "markdown",
   "id": "6d3ec7b8",
   "metadata": {},
   "source": [
    "### Tokens\n",
    "Os tokens são definidos pelo seu id e pela expressão regular que os define."
   ]
  },
  {
   "cell_type": "code",
   "execution_count": 39,
   "id": "116037a1",
   "metadata": {},
   "outputs": [],
   "source": [
    "tokens = {\n",
    "    'SELECT': r'SELECT',\n",
    "    'WHERE': r'WHERE',\n",
    "    'LIMIT': r'LIMIT',\n",
    "    'VAR': r'\\?\\w+',\n",
    "    'PUNT': r'[{},.:]',\n",
    "    'NUM': r'\\d+',\n",
    "    'SKIP': r'[ \\t\\r]+',\n",
    "    'NEWLINE': r'\\n',\n",
    "    'STRING': r'\"[^\"]*\"',\n",
    "    'TAG': r'@[a-z]+',\n",
    "    'PREFIX': r'[A-Za-z_]\\w*',\n",
    "    'ERRO': r'.'\n",
    "}"
   ]
  },
  {
   "cell_type": "markdown",
   "id": "b9cd0aa8",
   "metadata": {},
   "source": [
    "### Função tokenize"
   ]
  },
  {
   "cell_type": "code",
   "execution_count": 40,
   "id": "cbf4b413",
   "metadata": {},
   "outputs": [],
   "source": [
    "import re\n",
    "\n",
    "def tokenize(input_string):\n",
    "    reconhecido = []\n",
    "    linha = 0\n",
    "    tokens_regex = '|'.join(f'(?P<{token}>{expreg})' for token,expreg in tokens.items())\n",
    "\n",
    "    for m in re.finditer(tokens_regex, input_string):\n",
    "        for t in tokens.keys():\n",
    "            if m.lastgroup == t:\n",
    "                if t == 'SKIP':\n",
    "                    pass\n",
    "                elif t == 'NEWLINE':\n",
    "                    linha += 1\n",
    "                else:\n",
    "                    reconhecido.append((t, m.group(t), linha, m.span()))\n",
    "\n",
    "    return reconhecido\n"
   ]
  },
  {
   "cell_type": "markdown",
   "id": "4b66fe1e",
   "metadata": {},
   "source": [
    "### Testes\n",
    "Demonstração da função tokenize com 2 testes diferentes."
   ]
  },
  {
   "cell_type": "code",
   "execution_count": 41,
   "id": "3507d046",
   "metadata": {},
   "outputs": [
    {
     "name": "stdout",
     "output_type": "stream",
     "text": [
      "('SELECT', 'SELECT', 1, (1, 7))\n",
      "('VAR', '?nome', 1, (8, 13))\n",
      "('VAR', '?desc', 1, (14, 19))\n",
      "('WHERE', 'WHERE', 1, (20, 25))\n",
      "('PUNT', '{', 1, (26, 27))\n",
      "('VAR', '?s', 2, (29, 31))\n",
      "('PREFIX', 'a', 2, (32, 33))\n",
      "('PREFIX', 'dbo', 2, (34, 37))\n",
      "('PUNT', ':', 2, (37, 38))\n",
      "('PREFIX', 'MusicalArtist', 2, (38, 51))\n",
      "('PUNT', '.', 2, (51, 52))\n",
      "('VAR', '?s', 3, (54, 56))\n",
      "('PREFIX', 'foaf', 3, (57, 61))\n",
      "('PUNT', ':', 3, (61, 62))\n",
      "('PREFIX', 'name', 3, (62, 66))\n",
      "('STRING', '\"Chuck Berry\"', 3, (67, 80))\n",
      "('TAG', '@en', 3, (80, 83))\n",
      "('PUNT', '.', 3, (84, 85))\n",
      "('VAR', '?w', 4, (87, 89))\n",
      "('PREFIX', 'dbo', 4, (90, 93))\n",
      "('PUNT', ':', 4, (93, 94))\n",
      "('PREFIX', 'artist', 4, (94, 100))\n",
      "('VAR', '?s', 4, (101, 103))\n",
      "('PUNT', '.', 4, (103, 104))\n",
      "('VAR', '?w', 5, (106, 108))\n",
      "('PREFIX', 'foaf', 5, (109, 113))\n",
      "('PUNT', ':', 5, (113, 114))\n",
      "('PREFIX', 'name', 5, (114, 118))\n",
      "('VAR', '?nome', 5, (119, 124))\n",
      "('PUNT', '.', 5, (124, 125))\n",
      "('VAR', '?w', 6, (127, 129))\n",
      "('PREFIX', 'dbo', 6, (130, 133))\n",
      "('PUNT', ':', 6, (133, 134))\n",
      "('PREFIX', 'abstract', 6, (134, 142))\n",
      "('VAR', '?desc', 6, (143, 148))\n",
      "('PUNT', '}', 7, (149, 150))\n",
      "('LIMIT', 'LIMIT', 7, (151, 156))\n",
      "('NUM', '1000', 7, (157, 161))\n"
     ]
    }
   ],
   "source": [
    "query1 = '''\n",
    "SELECT ?nome ?desc WHERE {\n",
    " ?s a dbo:MusicalArtist.\n",
    " ?s foaf:name \"Chuck Berry\"@en .\n",
    " ?w dbo:artist ?s.\n",
    " ?w foaf:name ?nome.\n",
    " ?w dbo:abstract ?desc\n",
    "} LIMIT 1000     \n",
    "'''\n",
    "for tok in tokenize(query1):\n",
    "    print(tok)"
   ]
  },
  {
   "cell_type": "code",
   "execution_count": 32,
   "id": "477f0318",
   "metadata": {},
   "outputs": [
    {
     "name": "stdout",
     "output_type": "stream",
     "text": [
      "('SELECT', 'SELECT', 1, (1, 7))\n",
      "('VAR', '?titulo', 1, (8, 15))\n",
      "('VAR', '?ano', 1, (16, 20))\n",
      "('WHERE', 'WHERE', 1, (21, 26))\n",
      "('PUNT', '{', 1, (27, 28))\n",
      "('VAR', '?filme', 2, (31, 37))\n",
      "('PREFIX', 'a', 2, (38, 39))\n",
      "('PREFIX', 'dbo', 2, (40, 43))\n",
      "('PUNT', ':', 2, (43, 44))\n",
      "('PREFIX', 'Film', 2, (44, 48))\n",
      "('PUNT', '.', 2, (49, 50))\n",
      "('VAR', '?filme', 3, (53, 59))\n",
      "('PREFIX', 'dbo', 3, (60, 63))\n",
      "('PUNT', ':', 3, (63, 64))\n",
      "('PREFIX', 'director', 3, (64, 72))\n",
      "('VAR', '?diretor', 3, (73, 81))\n",
      "('PUNT', '.', 3, (82, 83))\n",
      "('VAR', '?diretor', 4, (86, 94))\n",
      "('PREFIX', 'foaf', 4, (95, 99))\n",
      "('PUNT', ':', 4, (99, 100))\n",
      "('PREFIX', 'name', 4, (100, 104))\n",
      "('STRING', '\"Martin Scorcese\"', 4, (105, 122))\n",
      "('PUNT', '@', 4, (122, 123))\n",
      "('PREFIX', 'en', 4, (123, 125))\n",
      "('PUNT', '.', 4, (126, 127))\n",
      "('VAR', '?filme', 5, (130, 136))\n",
      "('PREFIX', 'foaf', 5, (137, 141))\n",
      "('PUNT', ':', 5, (141, 142))\n",
      "('PREFIX', 'name', 5, (142, 146))\n",
      "('VAR', '?titulo', 5, (147, 154))\n",
      "('PUNT', '.', 5, (155, 156))\n",
      "('VAR', '?filme', 6, (159, 165))\n",
      "('PREFIX', 'dbo', 6, (166, 169))\n",
      "('PUNT', ':', 6, (169, 170))\n",
      "('PREFIX', 'releaseDate', 6, (170, 181))\n",
      "('VAR', '?ano', 6, (182, 186))\n",
      "('PUNT', '}', 7, (187, 188))\n",
      "('LIMIT', 'LIMIT', 7, (189, 194))\n",
      "('NUM', '10', 7, (195, 197))\n"
     ]
    }
   ],
   "source": [
    "query2 = \"\"\"\n",
    "SELECT ?titulo ?ano WHERE {\n",
    "  ?filme a dbo:Film .\n",
    "  ?filme dbo:director ?diretor .\n",
    "  ?diretor foaf:name \"Martin Scorcese\"@en .\n",
    "  ?filme foaf:name ?titulo .\n",
    "  ?filme dbo:releaseDate ?ano\n",
    "} LIMIT 10\n",
    "\"\"\"\n",
    "for tok in tokenize(query2):\n",
    "    print(tok)"
   ]
  }
 ],
 "metadata": {
  "kernelspec": {
   "display_name": "Python 3",
   "language": "python",
   "name": "python3"
  },
  "language_info": {
   "codemirror_mode": {
    "name": "ipython",
    "version": 3
   },
   "file_extension": ".py",
   "mimetype": "text/x-python",
   "name": "python",
   "nbconvert_exporter": "python",
   "pygments_lexer": "ipython3",
   "version": "3.13.7"
  }
 },
 "nbformat": 4,
 "nbformat_minor": 5
}
